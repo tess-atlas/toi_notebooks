{
 "cells": [
  {
   "cell_type": "markdown",
   "id": "77ca6caf",
   "metadata": {
    "tags": [
     "ploomber-engine-error-cell"
    ]
   },
   "source": [
    "## <span style=\"color:red\">An Exception has occured at cell 15</span>"
   ]
  },
  {
   "cell_type": "code",
   "execution_count": 1,
   "id": "90f537dd",
   "metadata": {
    "ploomber": {
     "memory_usage": 201.8828125,
     "timestamp_end": 1691728564.994275,
     "timestamp_start": 1691728547.454045
    },
    "tags": [
     "exe",
     "hide-cell"
    ]
   },
   "outputs": [
    {
     "name": "stdout",
     "output_type": "stream",
     "text": []
    }
   ],
   "source": [
    "! pip install tess-atlas -q\n",
    "\n",
    "from tess_atlas.utils import notebook_initalisations\n",
    "\n",
    "notebook_initalisations()"
   ]
  },
  {
   "cell_type": "markdown",
   "id": "f4f6edb4",
   "metadata": {
    "tags": [
     "def"
    ]
   },
   "source": [
    "# TESS Atlas fit for TOI 1488\n",
    "\n",
    "**Version: '0.2.1.dev314+ge1761e8'**\n",
    "\n",
    "**Note: This notebook was automatically generated as part of the TESS Atlas project. More information can be found on GitHub:** [github.com/dfm/tess-atlas](https://github.com/dfm/tess-atlas)\n",
    "\n",
    "In this notebook, we do a quicklook fit for the parameters of the TESS Objects of Interest (TOI) in the system number 1488.\n",
    "To do this fit, we use the [exoplanet](https://exoplanet.dfm.io) library and you can find more information about that project at [exoplanet.dfm.io](https://exoplanet.dfm.io).\n",
    "\n",
    "From here, you can\n",
    "- scroll down and take a look at the fit results\n",
    "- open the notebook in Google Colab to run the fit yourself\n",
    "- download the notebook\n",
    "\n",
    "\n",
    "\n",
    "## Caveats\n",
    "\n",
    "There are many caveats associated with this relatively simple \"quicklook\" type of analysis that should be kept in mind.\n",
    "Here are some of the main things that come to mind:\n",
    "\n",
    "1. The orbits that we fit are constrained to be *circular*. One major effect of this approximation is that the fit will significantly overestimate the confidence of the impact parameter constraint, so the results for impact parameter shouldn't be taken too seriously.\n",
    "\n",
    "2. Transit timing variations, correlated noise, and (probably) your favorite systematics are ignored. Sorry!\n",
    "\n",
    "3. This notebook was generated automatically without human intervention. Use at your own risk!\n",
    "\n",
    "\n",
    "## Getting started\n",
    "\n",
    "To get going, we'll add some _magic_, import some packages, and run some setup steps."
   ]
  },
  {
   "cell_type": "code",
   "execution_count": 2,
   "id": "56f0ca60",
   "metadata": {
    "ploomber": {
     "memory_usage": 202.0625,
     "timestamp_end": 1691728565.15688,
     "timestamp_start": 1691728564.996149
    },
    "pycharm": {
     "name": "#%%\n"
    },
    "tags": [
     "def",
     "hide-cell",
     "remove-output"
    ]
   },
   "outputs": [
    {
     "name": "stdout",
     "output_type": "stream",
     "text": [
      "The autoreload extension is already loaded. To reload it, use:\n",
      "  %reload_ext autoreload\n",
      "time: 16.9 ms (started: 2023-08-11 14:36:05 +10:00)\n"
     ]
    }
   ],
   "source": [
    "%load_ext autoreload\n",
    "%load_ext memory_profiler\n",
    "%load_ext autotime\n",
    "%autoreload 2\n",
    "# %matplotlib inline\n",
    "\n",
    "import os\n",
    "\n",
    "import numpy as np\n",
    "import pymc3_ext as pmx\n",
    "from arviz import InferenceData\n",
    "\n",
    "from tess_atlas.analysis.eccenticity_reweighting import (\n",
    "    calculate_eccentricity_weights,\n",
    ")\n",
    "from tess_atlas.analysis.model_tools import (\n",
    "    compute_variable,\n",
    "    get_untransformed_varnames,\n",
    "    sample_prior,\n",
    ")\n",
    "from tess_atlas.data.inference_data_tools import (\n",
    "    get_optimized_init_params,\n",
    "    summary,\n",
    "    test_model,\n",
    ")\n",
    "from tess_atlas.data.tic_entry import TICEntry\n",
    "from tess_atlas.logger import get_notebook_logger\n",
    "from tess_atlas.plotting import (\n",
    "    plot_diagnostics,\n",
    "    plot_eccentricity_posteriors,\n",
    "    plot_inference_trace,\n",
    "    plot_lightcurve,\n",
    "    plot_phase,\n",
    "    plot_posteriors,\n",
    "    plot_priors,\n",
    "    plot_raw_lightcurve,\n",
    ")\n",
    "\n",
    "TOI_NUMBER = 1488\n",
    "logger = get_notebook_logger(outdir=f\"toi_{TOI_NUMBER}_files\")"
   ]
  },
  {
   "cell_type": "code",
   "execution_count": 3,
   "id": "0df4325c",
   "metadata": {
    "ploomber": {
     "memory_usage": 202.16796875,
     "timestamp_end": 1691728565.243901,
     "timestamp_start": 1691728565.157416
    },
    "tags": [
     "exe",
     "remove-cell"
    ]
   },
   "outputs": [
    {
     "name": "stdout",
     "output_type": "stream",
     "text": [
      "time: 9.88 ms (started: 2023-08-11 14:36:05 +10:00)\n"
     ]
    }
   ],
   "source": [
    "import theano\n",
    "\n",
    "from tess_atlas.utils import tabulate_global_environ_vars\n",
    "\n",
    "logger.info(\"Logging some settings for future reference\")\n",
    "logger.info(\"GLOBAL ENVS:\\n\" + tabulate_global_environ_vars())\n",
    "logger.info(f\"THEANO Config:\\n{theano.config}\")"
   ]
  },
  {
   "cell_type": "markdown",
   "id": "a3c72e50",
   "metadata": {
    "lines_to_next_cell": 0,
    "tags": [
     "def"
    ]
   },
   "source": [
    "## Downloading Data\n",
    "\n",
    "Next, we grab some inital guesses for the TOI's parameters from [ExoFOP](https://exofop.ipac.caltech.edu/tess/) and download the TOI's lightcurve with [Lightkurve].\n",
    "\n",
    "We wrap the information in three objects, a `TIC Entry`, a `Planet Candidate` and finally a `Lightcurve Data` object.\n",
    "\n",
    "- The `TIC Entry` object holds one or more `Planet Candidate`s (each candidate associated with one TOI id number) and a `Lightcurve Data` for associated with the candidates. Note that the `Lightcurve Data` object is initially the same fopr each candidate but may be masked according to the candidate transit's period.\n",
    "\n",
    "- The `Planet Candidate` holds information on the TOI data collected by [SPOC] (eg transit period, etc)\n",
    "\n",
    "- The `Lightcurve Data` holds the lightcurve time and flux data for the planet candidates.\n",
    "\n",
    "[ExoFOP]: https://exofop.ipac.caltech.edu/tess/\n",
    "[Lightkurve]: https://docs.lightkurve.org/index.html\n",
    "[SPOC]: https://heasarc.gsfc.nasa.gov/docs/tess/pipeline.html\n",
    "\n",
    "Downloading the data (this may take a few minutes):"
   ]
  },
  {
   "cell_type": "code",
   "execution_count": 4,
   "id": "16b92b43",
   "metadata": {
    "ploomber": {
     "memory_usage": 464.375,
     "timestamp_end": 1691728568.172632,
     "timestamp_start": 1691728565.244303
    },
    "pycharm": {
     "name": "#%%\n"
    },
    "tags": [
     "exe"
    ]
   },
   "outputs": [
    {
     "name": "stdout",
     "output_type": "stream",
     "text": [
      "time: 2.85 s (started: 2023-08-11 14:36:05 +10:00)\n"
     ]
    },
    {
     "data": {
      "text/html": [
       "<div>\n",
       "<style scoped>\n",
       "    .dataframe tbody tr th:only-of-type {\n",
       "        vertical-align: middle;\n",
       "    }\n",
       "\n",
       "    .dataframe tbody tr th {\n",
       "        vertical-align: top;\n",
       "    }\n",
       "\n",
       "    .dataframe thead th {\n",
       "        text-align: right;\n",
       "    }\n",
       "</style>\n",
       "<table border=\"1\" class=\"dataframe\">\n",
       "  <thead>\n",
       "    <tr style=\"text-align: right;\">\n",
       "      <th>TOI</th>\n",
       "      <th>1488.01</th>\n",
       "    </tr>\n",
       "  </thead>\n",
       "  <tbody>\n",
       "    <tr>\n",
       "      <th>TOI</th>\n",
       "      <td>1488.01</td>\n",
       "    </tr>\n",
       "    <tr>\n",
       "      <th>Classification</th>\n",
       "      <td>False Alarm</td>\n",
       "    </tr>\n",
       "    <tr>\n",
       "      <th>Period (days)</th>\n",
       "      <td>0.472105</td>\n",
       "    </tr>\n",
       "    <tr>\n",
       "      <th>Epoch (TBJD)</th>\n",
       "      <td>1683.442832</td>\n",
       "    </tr>\n",
       "    <tr>\n",
       "      <th>Depth (ppt)</th>\n",
       "      <td>0.045219</td>\n",
       "    </tr>\n",
       "    <tr>\n",
       "      <th>Duration (days)</th>\n",
       "      <td>0.070815</td>\n",
       "    </tr>\n",
       "    <tr>\n",
       "      <th>Planet SNR</th>\n",
       "      <td>14.797877</td>\n",
       "    </tr>\n",
       "    <tr>\n",
       "      <th>Single Transit</th>\n",
       "      <td>False</td>\n",
       "    </tr>\n",
       "    <tr>\n",
       "      <th>PE Pipeline</th>\n",
       "      <td>SPOC</td>\n",
       "    </tr>\n",
       "    <tr>\n",
       "      <th>Comments</th>\n",
       "      <td>rapid rotator; TFOP FA; retired as SV</td>\n",
       "    </tr>\n",
       "  </tbody>\n",
       "</table>\n",
       "</div><br>\n",
       "<a href='https://exofop.ipac.caltech.edu/tess/target.php?id=198457103'>More data on ExoFOP page</a>"
      ],
      "text/plain": [
       "<TICEntry[1488]>"
      ]
     },
     "execution_count": 4,
     "metadata": {},
     "output_type": "execute_result"
    }
   ],
   "source": [
    "tic_entry = TICEntry.load(toi=TOI_NUMBER)\n",
    "tic_entry"
   ]
  },
  {
   "cell_type": "markdown",
   "id": "40db45fc",
   "metadata": {},
   "source": [
    "If the amount of lightcurve data availible is large we filter the data to keep only data around transits."
   ]
  },
  {
   "cell_type": "code",
   "execution_count": 5,
   "id": "0ffc8bad",
   "metadata": {
    "ploomber": {
     "memory_usage": 464.25,
     "timestamp_end": 1691728569.656112,
     "timestamp_start": 1691728568.173213
    },
    "tags": [
     "exe"
    ]
   },
   "outputs": [
    {
     "name": "stdout",
     "output_type": "stream",
     "text": [
      "time: 1.41 s (started: 2023-08-11 14:36:08 +10:00)\n"
     ]
    }
   ],
   "source": [
    "if tic_entry.lightcurve.len > 1e5:\n",
    "    tic_entry.lightcurve.filter_non_transit_data(tic_entry.candidates)\n",
    "else:\n",
    "    logger.info(\"Using the full lightcurve for analysis.\")"
   ]
  },
  {
   "cell_type": "markdown",
   "id": "009f62c5",
   "metadata": {
    "lines_to_next_cell": 2
   },
   "source": [
    "Plot of the lightcurve:"
   ]
  },
  {
   "cell_type": "code",
   "execution_count": 6,
   "id": "877ab1ef",
   "metadata": {
    "lines_to_next_cell": 0,
    "ploomber": {
     "memory_usage": 469.4140625,
     "timestamp_end": 1691728574.46765,
     "timestamp_start": 1691728569.656736
    },
    "pycharm": {
     "name": "#%%\n"
    },
    "tags": [
     "exe",
     "remove-output"
    ]
   },
   "outputs": [
    {
     "name": "stdout",
     "output_type": "stream",
     "text": [
      "time: 4.74 s (started: 2023-08-11 14:36:09 +10:00)\n"
     ]
    }
   ],
   "source": [
    "plot_lightcurve(tic_entry, save=True)\n",
    "\n",
    "# Some diagnostics\n",
    "plot_raw_lightcurve(tic_entry, save=True)\n",
    "plot_raw_lightcurve(tic_entry, zoom_in=True, save=True)"
   ]
  },
  {
   "cell_type": "markdown",
   "id": "b30efb21",
   "metadata": {},
   "source": [
    "![](toi_1488_files/flux_vs_time.png)"
   ]
  },
  {
   "cell_type": "markdown",
   "id": "2710719b",
   "metadata": {
    "tags": [
     "hide-cell"
    ]
   },
   "source": [
    "Diagnostic plots of the raw lightcurve (not applying sigma clipping/other cleaning methods to remove outliers). Some things to consider:\n",
    "- Do the initial fits from ExoFOP match the transits if visible?\n",
    "- If this is marked as a single-transit event, is there only 1 transit visible?\n",
    "\n",
    "![](toi_1488_files/diagnostic_raw_lc_plot.png)\n",
    "![](toi_1488_files/diagnostic_raw_lc_plot_zoom.png)"
   ]
  },
  {
   "cell_type": "markdown",
   "id": "4bdf1071",
   "metadata": {},
   "source": [
    "## Fitting transit parameters\n",
    "Now that we have the data, we can define a Bayesian model to fit it.\n",
    "\n",
    "### The probabilistic model\n",
    "\n",
    "We use the probabilistic model as described in [Foreman-Mackey et al 2017] to determine the best parameters to fit the transits present in the lightcurve data.\n",
    "\n",
    "More explicitly, the stellar light curve $l(t; \\vec{\\theta})$ is modelled with a Gaussian Process (GP).\n",
    "A GP consists of a mean function $\\mu(t;\\vec{\\theta})$ and a kernel function $k_\\alpha(t,t';\\vec{\\theta})$, where $\\vec{\\theta}$ is the vector of parameters descibing the lightcurve and $t$ is the time during which the lightcurve is under observation\n",
    "\n",
    "The 8 parameters describing the lightcurve are\n",
    "$$\\vec{\\theta} = \\{d_i, t0_i, tmax_i, b_i, r_i, f0, u1, u2\\},$$\n",
    "where\n",
    "* $d_i$ transit durations for each planet,\n",
    "* $tmin_i$ time of first transit for each planet (reference time),\n",
    "* $tmax_i$ time of the last transit for each planet (a second reference time),\n",
    "* $b_i$ impact parameter for each planet,\n",
    "* $r_i$ planet radius in stellar radius for each planet,\n",
    "* $f0$ baseline relative flux of the light curve from star,\n",
    "* $u1$ $u2$ two parameters describing the limb-darkening profile of star.\n",
    "\n",
    "Note: if the observed data only records a single transit,\n",
    "we swap $tmax_i$ with $p_i$ (orbital periods for each planet).\n",
    "\n",
    "With this we can write\n",
    "$$l(t;\\vec{\\theta}) \\sim \\mathcal{GP} (\\mu(t;\\vec{\\theta}), k_\\alpha(t,t';\\vec{\\theta}))\\ .$$\n",
    "\n",
    "Here the mean and kernel functions are:\n",
    "* $\\mu(t;\\vec{\\theta})$: a limb-darkened transit light curve ([Kipping 2013])\n",
    "* $k_\\alpha(t,t';\\vec{\\theta}))$: a stochastically-driven, damped harmonic oscillator ([SHOTterm])\n",
    "\n",
    "\n",
    "Now that we have defined our transit model, we can implement it in python (toggle to show).\n",
    "\n",
    "[Foreman-Mackey et al 2017]: https://arxiv.org/pdf/1703.09710.pdf\n",
    "[Kipping 2013]: https://arxiv.org/abs/1308.0009\n",
    "[SHOTterm]: https://celerite2.readthedocs.io/en/latest/api/python/?highlight=SHOTerm#celerite2.terms.SHOTerm"
   ]
  },
  {
   "cell_type": "code",
   "execution_count": 7,
   "id": "6aff1a9e",
   "metadata": {
    "ploomber": {
     "memory_usage": 469.75,
     "timestamp_end": 1691728574.633949,
     "timestamp_start": 1691728574.468296
    },
    "pycharm": {
     "name": "#%%\n"
    },
    "tags": [
     "def",
     "hide-cell"
    ]
   },
   "outputs": [
    {
     "name": "stdout",
     "output_type": "stream",
     "text": [
      "time: 87.9 ms (started: 2023-08-11 14:36:14 +10:00)\n"
     ]
    }
   ],
   "source": [
    "import aesara_theano_fallback.tensor as tt\n",
    "import exoplanet as xo\n",
    "import numpy as np\n",
    "import pymc3 as pm\n",
    "import pymc3_ext as pmx\n",
    "from celerite2.theano import GaussianProcess, terms\n",
    "\n",
    "DEPTH = \"depth\"\n",
    "DURATION = \"dur\"\n",
    "RADIUS_RATIO = \"r\"\n",
    "TIME_START = \"tmin\"\n",
    "TIME_END = \"tmax\"\n",
    "ORBITAL_PERIOD = \"p\"\n",
    "MEAN_FLUX = \"f0\"\n",
    "LC_JITTER = \"jitter\"\n",
    "GP_RHO = \"rho\"\n",
    "GP_SIGMA = \"sigma\"\n",
    "RHO_CIRC = \"rho_circ\"  # stellar density at e=0\n",
    "LIMB_DARKENING_PARAM = \"u\"\n",
    "IMPACT_PARAM = \"b\"\n",
    "\n",
    "\n",
    "def get_test_duration(min_durations, max_durations, durations):\n",
    "    largest_min_duration = np.amax(\n",
    "        np.array([durations, 2 * min_durations]), axis=0\n",
    "    )\n",
    "    smallest_max_duration = np.amin(\n",
    "        np.array([largest_min_duration, 0.99 * max_durations]), axis=0\n",
    "    )\n",
    "    return smallest_max_duration\n",
    "\n",
    "\n",
    "def build_planet_transit_model(tic_entry):\n",
    "    t = tic_entry.lightcurve.time\n",
    "    y = tic_entry.lightcurve.flux\n",
    "    yerr = tic_entry.lightcurve.flux_err\n",
    "\n",
    "    n = tic_entry.planet_count\n",
    "    tmins = np.array([planet.tmin for planet in tic_entry.candidates])\n",
    "    depths = np.array([planet.depth for planet in tic_entry.candidates])\n",
    "    durations = np.array([planet.duration for planet in tic_entry.candidates])\n",
    "    max_durations = np.array(\n",
    "        [planet.duration_max for planet in tic_entry.candidates]\n",
    "    )\n",
    "    min_durations = np.array(\n",
    "        [planet.duration_min for planet in tic_entry.candidates]\n",
    "    )\n",
    "    test_duration = get_test_duration(min_durations, max_durations, durations)\n",
    "\n",
    "    with pm.Model() as my_planet_transit_model:\n",
    "        ## define planet parameters\n",
    "\n",
    "        # 1) d: transit duration (duration of eclipse)\n",
    "        d_priors = pm.Bound(\n",
    "            pm.Lognormal, lower=min_durations, upper=max_durations\n",
    "        )(\n",
    "            name=DURATION,\n",
    "            mu=np.log(durations),\n",
    "            sigma=np.log(1.2),\n",
    "            shape=n,\n",
    "            testval=test_duration,\n",
    "        )\n",
    "\n",
    "        # 2) r: radius ratio (planet radius / star radius)\n",
    "        r_priors = pm.Lognormal(\n",
    "            name=RADIUS_RATIO, mu=0.5 * np.log(depths * 1e-3), sd=1.0, shape=n\n",
    "        )\n",
    "        # 3) b: impact parameter\n",
    "        b_priors = xo.distributions.ImpactParameter(\n",
    "            name=IMPACT_PARAM, ror=r_priors, shape=n\n",
    "        )\n",
    "        planet_priors = [r_priors, d_priors, b_priors]\n",
    "\n",
    "        ## define orbit-timing parameters\n",
    "\n",
    "        # 1) tmin: the time of the first transit in data (a reference time)\n",
    "        tmin_norm = pm.Bound(\n",
    "            pm.Normal, lower=tmins - max_durations, upper=tmins + max_durations\n",
    "        )\n",
    "        tmin_priors = tmin_norm(\n",
    "            TIME_START, mu=tmins, sigma=0.5 * durations, shape=n, testval=tmins\n",
    "        )\n",
    "\n",
    "        # 2) period: the planets' orbital period\n",
    "        p_params, p_priors_list, tmax_priors_list = [], [], []\n",
    "        for n, planet in enumerate(tic_entry.candidates):\n",
    "            # if only one transit in data we use the period\n",
    "            if planet.has_data_only_for_single_transit:\n",
    "                p_prior = pm.Pareto(\n",
    "                    name=f\"{ORBITAL_PERIOD}_{planet.index}\",\n",
    "                    m=planet.period_min,\n",
    "                    alpha=2.0 / 3.0,\n",
    "                    testval=planet.period,\n",
    "                )\n",
    "                p_param = p_prior\n",
    "                tmax_prior = planet.tmin\n",
    "            # if more than one transit in data we use a second time reference (tmax)\n",
    "            else:\n",
    "                tmax_norm = pm.Bound(\n",
    "                    pm.Normal,\n",
    "                    lower=planet.tmax - planet.duration_max,\n",
    "                    upper=planet.tmax + planet.duration_max,\n",
    "                )\n",
    "                tmax_prior = tmax_norm(\n",
    "                    name=f\"{TIME_END}_{planet.index}\",\n",
    "                    mu=planet.tmax,\n",
    "                    sigma=0.5 * planet.duration,\n",
    "                    testval=planet.tmax,\n",
    "                )\n",
    "                p_prior = (tmax_prior - tmin_priors[n]) / planet.num_periods\n",
    "                p_param = tmax_prior\n",
    "\n",
    "            p_params.append(p_param)  # the param needed to calculate p\n",
    "            p_priors_list.append(p_prior)\n",
    "            tmax_priors_list.append(tmax_prior)\n",
    "\n",
    "        p_priors = pm.Deterministic(ORBITAL_PERIOD, tt.stack(p_priors_list))\n",
    "        tmax_priors = pm.Deterministic(TIME_END, tt.stack(tmax_priors_list))\n",
    "\n",
    "        ## define stellar parameters\n",
    "\n",
    "        # 1) f0: the mean flux from the star\n",
    "        f0_prior = pm.Normal(name=MEAN_FLUX, mu=0.0, sd=10.0)\n",
    "\n",
    "        # 2) u1, u2: limb darkening parameters\n",
    "        u_prior = xo.distributions.QuadLimbDark(\"u\")\n",
    "        stellar_priors = [f0_prior, u_prior]\n",
    "\n",
    "        ## define k(t, t1; parameters)\n",
    "        jitter_prior = pm.InverseGamma(\n",
    "            name=LC_JITTER, **pmx.estimate_inverse_gamma_parameters(1.0, 5.0)\n",
    "        )\n",
    "        sigma_prior = pm.InverseGamma(\n",
    "            name=GP_SIGMA, **pmx.estimate_inverse_gamma_parameters(1.0, 5.0)\n",
    "        )\n",
    "        rho_prior = pm.InverseGamma(\n",
    "            name=GP_RHO, **pmx.estimate_inverse_gamma_parameters(0.5, 10.0)\n",
    "        )\n",
    "        kernel = terms.SHOTerm(sigma=sigma_prior, rho=rho_prior, Q=0.3)\n",
    "        noise_priors = [jitter_prior, sigma_prior, rho_prior]\n",
    "\n",
    "        ## define the lightcurve model mu(t;paramters)\n",
    "        orbit = xo.orbits.KeplerianOrbit(\n",
    "            period=p_priors,\n",
    "            t0=tmin_priors,\n",
    "            b=b_priors,\n",
    "            duration=d_priors,\n",
    "            ror=r_priors,\n",
    "        )\n",
    "        star = xo.LimbDarkLightCurve(u_prior)\n",
    "        lightcurve_models = star.get_light_curve(orbit=orbit, r=r_priors, t=t)\n",
    "        lightcurve = 1e3 * pm.math.sum(lightcurve_models, axis=-1) + f0_prior\n",
    "        my_planet_transit_model.lightcurve_models = lightcurve_models\n",
    "        rho_circ = pm.Deterministic(name=RHO_CIRC, var=orbit.rho_star)\n",
    "\n",
    "        # Finally the GP likelihood\n",
    "        residual = y - lightcurve\n",
    "        gp_kwargs = dict(diag=yerr**2 + jitter_prior**2, quiet=True)\n",
    "        gp = GaussianProcess(kernel, t, **gp_kwargs)\n",
    "        gp.marginal(name=\"obs\", observed=residual)\n",
    "        my_planet_transit_model.gp_mu = gp.predict(residual, return_var=False)\n",
    "\n",
    "        # cache params\n",
    "        my_params = dict(\n",
    "            planet_params=planet_priors,\n",
    "            noise_params=noise_priors,\n",
    "            stellar_params=stellar_priors,\n",
    "            period_params=p_params,\n",
    "        )\n",
    "    return my_planet_transit_model, my_params"
   ]
  },
  {
   "cell_type": "code",
   "execution_count": 8,
   "id": "3e975daa",
   "metadata": {
    "lines_to_end_of_cell_marker": 2,
    "ploomber": {
     "memory_usage": 646.921875,
     "timestamp_end": 1691728809.036057,
     "timestamp_start": 1691728574.634571
    },
    "pycharm": {
     "name": "#%%\n"
    },
    "tags": [
     "exe"
    ]
   },
   "outputs": [
    {
     "name": "stdout",
     "output_type": "stream",
     "text": [
      "time: 3min 54s (started: 2023-08-11 14:36:14 +10:00)\n"
     ]
    }
   ],
   "source": [
    "planet_transit_model, params = build_planet_transit_model(tic_entry)\n",
    "model_varnames = get_untransformed_varnames(planet_transit_model)\n",
    "test_model(planet_transit_model)"
   ]
  },
  {
   "cell_type": "markdown",
   "id": "5ef14ca9",
   "metadata": {},
   "source": [
    "### Optimizing the initial point for sampling\n",
    "We help out the sampler we try to find an optimized set of initial parameters to begin sampling from."
   ]
  },
  {
   "cell_type": "code",
   "execution_count": 9,
   "id": "15e45063",
   "metadata": {
    "ploomber": {
     "memory_usage": 646.921875,
     "timestamp_end": 1691728809.11968,
     "timestamp_start": 1691728809.037082
    },
    "tags": [
     "exe",
     "remove-output"
    ]
   },
   "outputs": [
    {
     "name": "stdout",
     "output_type": "stream",
     "text": [
      "time: 1.06 ms (started: 2023-08-11 14:40:09 +10:00)\n"
     ]
    }
   ],
   "source": [
    "if tic_entry.optimized_params is None:\n",
    "    init_params = get_optimized_init_params(planet_transit_model, **params)\n",
    "    tic_entry.save_data(optimized_params=init_params)\n",
    "else:\n",
    "    init_params = tic_entry.optimized_params.to_dict()"
   ]
  },
  {
   "cell_type": "code",
   "execution_count": 10,
   "id": "13ce3c75",
   "metadata": {
    "ploomber": {
     "memory_usage": 703.54296875,
     "timestamp_end": 1691728811.757126,
     "timestamp_start": 1691728809.120159
    },
    "tags": [
     "exe"
    ]
   },
   "outputs": [
    {
     "name": "stdout",
     "output_type": "stream",
     "text": [
      "time: 2.56 s (started: 2023-08-11 14:40:09 +10:00)\n"
     ]
    },
    {
     "data": {
      "text/html": [
       "<div>\n",
       "<style scoped>\n",
       "    .dataframe tbody tr th:only-of-type {\n",
       "        vertical-align: middle;\n",
       "    }\n",
       "\n",
       "    .dataframe tbody tr th {\n",
       "        vertical-align: top;\n",
       "    }\n",
       "\n",
       "    .dataframe thead th {\n",
       "        text-align: right;\n",
       "    }\n",
       "</style>\n",
       "<table border=\"1\" class=\"dataframe\">\n",
       "  <thead>\n",
       "    <tr style=\"text-align: right;\">\n",
       "      <th></th>\n",
       "      <th>Test Point</th>\n",
       "      <th>log P(test-point)</th>\n",
       "    </tr>\n",
       "  </thead>\n",
       "  <tbody>\n",
       "    <tr>\n",
       "      <th>dur_interval__</th>\n",
       "      <td>-2.237</td>\n",
       "      <td>0.60</td>\n",
       "    </tr>\n",
       "    <tr>\n",
       "      <th>r_log__</th>\n",
       "      <td>-5.002</td>\n",
       "      <td>-0.92</td>\n",
       "    </tr>\n",
       "    <tr>\n",
       "      <th>b_impact__</th>\n",
       "      <td>-0.013</td>\n",
       "      <td>-1.39</td>\n",
       "    </tr>\n",
       "    <tr>\n",
       "      <th>tmin_interval__</th>\n",
       "      <td>0.0</td>\n",
       "      <td>1.38</td>\n",
       "    </tr>\n",
       "    <tr>\n",
       "      <th>tmax_1_interval__</th>\n",
       "      <td>0.0</td>\n",
       "      <td>1.36</td>\n",
       "    </tr>\n",
       "    <tr>\n",
       "      <th>f0</th>\n",
       "      <td>0.0</td>\n",
       "      <td>-3.22</td>\n",
       "    </tr>\n",
       "    <tr>\n",
       "      <th>u_quadlimbdark__</th>\n",
       "      <td>0.0</td>\n",
       "      <td>-2.77</td>\n",
       "    </tr>\n",
       "    <tr>\n",
       "      <th>jitter_log__</th>\n",
       "      <td>0.556</td>\n",
       "      <td>-79.22</td>\n",
       "    </tr>\n",
       "    <tr>\n",
       "      <th>sigma_log__</th>\n",
       "      <td>0.556</td>\n",
       "      <td>-122.58</td>\n",
       "    </tr>\n",
       "    <tr>\n",
       "      <th>rho_log__</th>\n",
       "      <td>0.053</td>\n",
       "      <td>-29.50</td>\n",
       "    </tr>\n",
       "    <tr>\n",
       "      <th>obs</th>\n",
       "      <td>NaN</td>\n",
       "      <td>-249359.57</td>\n",
       "    </tr>\n",
       "  </tbody>\n",
       "</table>\n",
       "</div>"
      ],
      "text/plain": [
       "                  Test Point  log P(test-point)\n",
       "dur_interval__        -2.237               0.60\n",
       "r_log__               -5.002              -0.92\n",
       "b_impact__            -0.013              -1.39\n",
       "tmin_interval__          0.0               1.38\n",
       "tmax_1_interval__        0.0               1.36\n",
       "f0                       0.0              -3.22\n",
       "u_quadlimbdark__         0.0              -2.77\n",
       "jitter_log__           0.556             -79.22\n",
       "sigma_log__            0.556            -122.58\n",
       "rho_log__              0.053             -29.50\n",
       "obs                      NaN         -249359.57"
      ]
     },
     "execution_count": 10,
     "metadata": {},
     "output_type": "execute_result"
    }
   ],
   "source": [
    "# sanity check that none of the right hand column have nans!\n",
    "test_model(planet_transit_model, init_params, show_summary=True)"
   ]
  },
  {
   "cell_type": "markdown",
   "id": "25b4b951",
   "metadata": {},
   "source": [
    "Below are plots of our initial model and priors.\n",
    "\n",
    "### Initial model fit"
   ]
  },
  {
   "cell_type": "code",
   "execution_count": 11,
   "id": "9ed351d4",
   "metadata": {
    "ploomber": {
     "memory_usage": 726.43359375,
     "timestamp_end": 1691728818.016701,
     "timestamp_start": 1691728811.757682
    },
    "pycharm": {
     "name": "#%%\n"
    },
    "tags": [
     "exe",
     "remove-output"
    ]
   },
   "outputs": [
    {
     "name": "stdout",
     "output_type": "stream",
     "text": [
      "time: 6.18 s (started: 2023-08-11 14:40:11 +10:00)\n"
     ]
    }
   ],
   "source": [
    "initial_lc_models = (\n",
    "    compute_variable(\n",
    "        model=planet_transit_model,\n",
    "        samples=[[init_params[n] for n in model_varnames]],\n",
    "        target=planet_transit_model.lightcurve_models,\n",
    "    )\n",
    "    * 1e3\n",
    ")\n",
    "plot_lightcurve(\n",
    "    tic_entry, initial_lc_models, save=\"lightcurve_with_initial_guess.png\"\n",
    ")\n",
    "plot_lightcurve(\n",
    "    tic_entry,\n",
    "    initial_lc_models,\n",
    "    zoom_in=True,\n",
    "    save=\"lightcurve_with_initial_guess_zoom.png\",\n",
    ")"
   ]
  },
  {
   "cell_type": "markdown",
   "id": "b9cf63bf",
   "metadata": {},
   "source": [
    "<!-- Show LC plot with initial guess -->\n",
    "![](toi_1488_files/lightcurve_with_initial_guess.png)"
   ]
  },
  {
   "cell_type": "markdown",
   "id": "70561f4d",
   "metadata": {
    "tags": [
     "hide-cell"
    ]
   },
   "source": [
    "<!-- Show zoomed in LC plot with initial guess -->\n",
    "![](toi_1488_files/lightcurve_with_initial_guess_zoom.png)"
   ]
  },
  {
   "cell_type": "code",
   "execution_count": 12,
   "id": "1547ea20",
   "metadata": {
    "ploomber": {
     "memory_usage": 808.890625,
     "timestamp_end": 1691728830.945615,
     "timestamp_start": 1691728818.017549
    },
    "tags": [
     "exe",
     "remove-output"
    ]
   },
   "outputs": [
    {
     "name": "stdout",
     "output_type": "stream",
     "text": [
      "time: 12.8 s (started: 2023-08-11 14:40:18 +10:00)\n"
     ]
    }
   ],
   "source": [
    "params = dict(\n",
    "    tic_entry=tic_entry, model=planet_transit_model, initial_params=init_params\n",
    ")\n",
    "plot_phase(**params, save=\"phase_initial.png\")\n",
    "plot_phase(\n",
    "    **params, plot_all_datapoints=True, save=\"phase_initial_all_datapoints.png\"\n",
    ")"
   ]
  },
  {
   "cell_type": "markdown",
   "id": "37a9e087",
   "metadata": {},
   "source": [
    "<!-- SHOW PHASE PLOT -->\n",
    "<img src=\"toi_1488_files/phase_initial.png\" style=\"width:450px;\"/>\n"
   ]
  },
  {
   "cell_type": "markdown",
   "id": "ed4cf2c8",
   "metadata": {
    "tags": [
     "hide-cell"
    ]
   },
   "source": [
    "Diagnostic phase plot\n",
    "<img src=\"toi_1488_files/phase_initial_all_datapoints.png\" style=\"width:450px;\"/>"
   ]
  },
  {
   "cell_type": "markdown",
   "id": "335bca4c",
   "metadata": {},
   "source": [
    "### Histograms of Priors"
   ]
  },
  {
   "cell_type": "code",
   "execution_count": 13,
   "id": "dd1ac0a3",
   "metadata": {
    "lines_to_end_of_cell_marker": 2,
    "ploomber": {
     "memory_usage": 809.921875,
     "timestamp_end": 1691728839.721238,
     "timestamp_start": 1691728830.946223
    },
    "tags": [
     "exe",
     "remove-output"
    ]
   },
   "outputs": [
    {
     "name": "stdout",
     "output_type": "stream",
     "text": [
      "time: 8.7 s (started: 2023-08-11 14:40:31 +10:00)\n"
     ]
    }
   ],
   "source": [
    "prior_samples = sample_prior(planet_transit_model)\n",
    "if prior_samples:\n",
    "    plot_priors(tic_entry, prior_samples, init_params, save=True)"
   ]
  },
  {
   "cell_type": "markdown",
   "id": "e4c42c10",
   "metadata": {},
   "source": [
    "![](toi_1488_files/priors.png)"
   ]
  },
  {
   "cell_type": "markdown",
   "id": "f79191a9",
   "metadata": {
    "lines_to_next_cell": 2
   },
   "source": [
    "\n",
    "### Sampling\n",
    "With the model and priors defined, we can begin sampling."
   ]
  },
  {
   "cell_type": "code",
   "execution_count": 14,
   "id": "71f6907d",
   "metadata": {
    "ploomber": {
     "memory_usage": 809.921875,
     "timestamp_end": 1691728839.816919,
     "timestamp_start": 1691728839.722109
    },
    "pycharm": {
     "name": "#%%\n"
    },
    "tags": [
     "def"
    ]
   },
   "outputs": [
    {
     "name": "stdout",
     "output_type": "stream",
     "text": [
      "time: 1.12 ms (started: 2023-08-11 14:40:39 +10:00)\n"
     ]
    }
   ],
   "source": [
    "def run_inference(model) -> InferenceData:\n",
    "    np.random.seed(TOI_NUMBER)\n",
    "    with model:\n",
    "        sampling_kwargs = dict(tune=2000, draws=2000, chains=2, cores=2)\n",
    "        logger.info(f\"Run sampler with kwargs: {sampling_kwargs}\")\n",
    "        inference_data = pmx.sample(\n",
    "            **sampling_kwargs, start=init_params, return_inferencedata=True\n",
    "        )\n",
    "        logger.info(\"Sampling completed!\")\n",
    "        return inference_data"
   ]
  },
  {
   "cell_type": "markdown",
   "id": "2f6017ea",
   "metadata": {
    "tags": [
     "ploomber-engine-error-cell"
    ]
   },
   "source": [
    "## <span style=\"color:red\">Ploomber Engine raised an exception due to the cell below </span>"
   ]
  },
  {
   "cell_type": "code",
   "execution_count": 15,
   "id": "e908a605",
   "metadata": {
    "ploomber": {
     "memory_usage": 243.77734375,
     "timestamp_end": 1691732757.572334,
     "timestamp_start": 1691728839.817424
    },
    "pycharm": {
     "name": "#%%\n"
    },
    "tags": [
     "exe"
    ]
   },
   "outputs": [
    {
     "name": "stdout",
     "output_type": "stream",
     "text": [
      "█\n",
      "\u001b[0;31m---------------------------------------------------------------------------\u001b[0m\n",
      "\u001b[0;31mConnectionResetError\u001b[0m                      Traceback (most recent call last)\n",
      "\u001b[0;32m<ipython-input-1-c860dfff9d33>\u001b[0m in \u001b[0;36m<module>\u001b[0;34m\u001b[0m\n",
      "\u001b[1;32m      1\u001b[0m \u001b[0;32mif\u001b[0m \u001b[0mtic_entry\u001b[0m\u001b[0;34m.\u001b[0m\u001b[0minference_data\u001b[0m \u001b[0;32mis\u001b[0m \u001b[0;32mNone\u001b[0m\u001b[0;34m:\u001b[0m\u001b[0;34m\u001b[0m\u001b[0;34m\u001b[0m\u001b[0m\n",
      "\u001b[0;32m----> 2\u001b[0;31m     \u001b[0minference_data\u001b[0m \u001b[0;34m=\u001b[0m \u001b[0mrun_inference\u001b[0m\u001b[0;34m(\u001b[0m\u001b[0mplanet_transit_model\u001b[0m\u001b[0;34m)\u001b[0m\u001b[0;34m\u001b[0m\u001b[0;34m\u001b[0m\u001b[0m\n",
      "\u001b[0m\u001b[1;32m      3\u001b[0m     \u001b[0mtic_entry\u001b[0m\u001b[0;34m.\u001b[0m\u001b[0minference_data\u001b[0m \u001b[0;34m=\u001b[0m \u001b[0minference_data\u001b[0m\u001b[0;34m\u001b[0m\u001b[0;34m\u001b[0m\u001b[0m\n",
      "\u001b[1;32m      4\u001b[0m     \u001b[0mtic_entry\u001b[0m\u001b[0;34m.\u001b[0m\u001b[0msave_data\u001b[0m\u001b[0;34m(\u001b[0m\u001b[0minference_data\u001b[0m\u001b[0;34m=\u001b[0m\u001b[0minference_data\u001b[0m\u001b[0;34m)\u001b[0m\u001b[0;34m\u001b[0m\u001b[0;34m\u001b[0m\u001b[0m\n",
      "\u001b[1;32m      5\u001b[0m \u001b[0;32melse\u001b[0m\u001b[0;34m:\u001b[0m\u001b[0;34m\u001b[0m\u001b[0;34m\u001b[0m\u001b[0m\n",
      "\n",
      "\u001b[0;32m<ipython-input-1-51f626226fe4>\u001b[0m in \u001b[0;36mrun_inference\u001b[0;34m(model)\u001b[0m\n",
      "\u001b[1;32m      4\u001b[0m         \u001b[0msampling_kwargs\u001b[0m \u001b[0;34m=\u001b[0m \u001b[0mdict\u001b[0m\u001b[0;34m(\u001b[0m\u001b[0mtune\u001b[0m\u001b[0;34m=\u001b[0m\u001b[0;36m2000\u001b[0m\u001b[0;34m,\u001b[0m \u001b[0mdraws\u001b[0m\u001b[0;34m=\u001b[0m\u001b[0;36m2000\u001b[0m\u001b[0;34m,\u001b[0m \u001b[0mchains\u001b[0m\u001b[0;34m=\u001b[0m\u001b[0;36m2\u001b[0m\u001b[0;34m,\u001b[0m \u001b[0mcores\u001b[0m\u001b[0;34m=\u001b[0m\u001b[0;36m2\u001b[0m\u001b[0;34m)\u001b[0m\u001b[0;34m\u001b[0m\u001b[0;34m\u001b[0m\u001b[0m\n",
      "\u001b[1;32m      5\u001b[0m         \u001b[0mlogger\u001b[0m\u001b[0;34m.\u001b[0m\u001b[0minfo\u001b[0m\u001b[0;34m(\u001b[0m\u001b[0;34mf\"Run sampler with kwargs: {sampling_kwargs}\"\u001b[0m\u001b[0;34m)\u001b[0m\u001b[0;34m\u001b[0m\u001b[0;34m\u001b[0m\u001b[0m\n",
      "\u001b[0;32m----> 6\u001b[0;31m         inference_data = pmx.sample(\n",
      "\u001b[0m\u001b[1;32m      7\u001b[0m             \u001b[0;34m**\u001b[0m\u001b[0msampling_kwargs\u001b[0m\u001b[0;34m,\u001b[0m \u001b[0mstart\u001b[0m\u001b[0;34m=\u001b[0m\u001b[0minit_params\u001b[0m\u001b[0;34m,\u001b[0m \u001b[0mreturn_inferencedata\u001b[0m\u001b[0;34m=\u001b[0m\u001b[0;32mTrue\u001b[0m\u001b[0;34m\u001b[0m\u001b[0;34m\u001b[0m\u001b[0m\n",
      "\u001b[1;32m      8\u001b[0m         )\n",
      "\n",
      "\u001b[0;32m/fred/oz200/avajpeyi/envs/tess/lib/python3.8/site-packages/pymc3_ext/sampling/sampling.py\u001b[0m in \u001b[0;36msample\u001b[0;34m(draws, tune, model, step_kwargs, warmup_window, adapt_window, cooldown_window, initial_accept, target_accept, gamma, k, t0, parameter_groups, adapt_type, recompute_interval, regularization_steps, regularization_variance, **kwargs)\u001b[0m\n",
      "\u001b[1;32m     95\u001b[0m     )\n",
      "\u001b[1;32m     96\u001b[0m \u001b[0;34m\u001b[0m\u001b[0m\n",
      "\u001b[0;32m---> 97\u001b[0;31m     \u001b[0;32mreturn\u001b[0m \u001b[0mpm\u001b[0m\u001b[0;34m.\u001b[0m\u001b[0msample\u001b[0m\u001b[0;34m(\u001b[0m\u001b[0mdraws\u001b[0m\u001b[0;34m=\u001b[0m\u001b[0mdraws\u001b[0m\u001b[0;34m,\u001b[0m \u001b[0mtune\u001b[0m\u001b[0;34m=\u001b[0m\u001b[0mtune\u001b[0m\u001b[0;34m,\u001b[0m \u001b[0mmodel\u001b[0m\u001b[0;34m=\u001b[0m\u001b[0mmodel\u001b[0m\u001b[0;34m,\u001b[0m \u001b[0mstep\u001b[0m\u001b[0;34m=\u001b[0m\u001b[0mstep\u001b[0m\u001b[0;34m,\u001b[0m \u001b[0;34m**\u001b[0m\u001b[0mkwargs\u001b[0m\u001b[0;34m)\u001b[0m\u001b[0;34m\u001b[0m\u001b[0;34m\u001b[0m\u001b[0m\n",
      "\u001b[0m\n",
      "\u001b[0;32m/fred/oz200/avajpeyi/envs/tess/lib/python3.8/site-packages/pymc3/sampling.py\u001b[0m in \u001b[0;36msample\u001b[0;34m(draws, step, init, n_init, start, trace, chain_idx, chains, cores, tune, progressbar, model, random_seed, discard_tuned_samples, compute_convergence_checks, callback, jitter_max_retries, return_inferencedata, idata_kwargs, mp_ctx, pickle_backend, **kwargs)\u001b[0m\n",
      "\u001b[1;32m    557\u001b[0m         \u001b[0m_print_step_hierarchy\u001b[0m\u001b[0;34m(\u001b[0m\u001b[0mstep\u001b[0m\u001b[0;34m)\u001b[0m\u001b[0;34m\u001b[0m\u001b[0;34m\u001b[0m\u001b[0m\n",
      "\u001b[1;32m    558\u001b[0m         \u001b[0;32mtry\u001b[0m\u001b[0;34m:\u001b[0m\u001b[0;34m\u001b[0m\u001b[0;34m\u001b[0m\u001b[0m\n",
      "\u001b[0;32m--> 559\u001b[0;31m             \u001b[0mtrace\u001b[0m \u001b[0;34m=\u001b[0m \u001b[0m_mp_sample\u001b[0m\u001b[0;34m(\u001b[0m\u001b[0;34m**\u001b[0m\u001b[0msample_args\u001b[0m\u001b[0;34m,\u001b[0m \u001b[0;34m**\u001b[0m\u001b[0mparallel_args\u001b[0m\u001b[0;34m)\u001b[0m\u001b[0;34m\u001b[0m\u001b[0;34m\u001b[0m\u001b[0m\n",
      "\u001b[0m\u001b[1;32m    560\u001b[0m         \u001b[0;32mexcept\u001b[0m \u001b[0mpickle\u001b[0m\u001b[0;34m.\u001b[0m\u001b[0mPickleError\u001b[0m\u001b[0;34m:\u001b[0m\u001b[0;34m\u001b[0m\u001b[0;34m\u001b[0m\u001b[0m\n",
      "\u001b[1;32m    561\u001b[0m             \u001b[0m_log\u001b[0m\u001b[0;34m.\u001b[0m\u001b[0mwarning\u001b[0m\u001b[0;34m(\u001b[0m\u001b[0;34m\"Could not pickle model, sampling singlethreaded.\"\u001b[0m\u001b[0;34m)\u001b[0m\u001b[0;34m\u001b[0m\u001b[0;34m\u001b[0m\u001b[0m\n",
      "\n",
      "\u001b[0;32m/fred/oz200/avajpeyi/envs/tess/lib/python3.8/site-packages/pymc3/sampling.py\u001b[0m in \u001b[0;36m_mp_sample\u001b[0;34m(draws, tune, step, chains, cores, chain, random_seed, start, progressbar, trace, model, callback, discard_tuned_samples, mp_ctx, pickle_backend, **kwargs)\u001b[0m\n",
      "\u001b[1;32m   1475\u001b[0m         \u001b[0;32mtry\u001b[0m\u001b[0;34m:\u001b[0m\u001b[0;34m\u001b[0m\u001b[0;34m\u001b[0m\u001b[0m\n",
      "\u001b[1;32m   1476\u001b[0m             \u001b[0;32mwith\u001b[0m \u001b[0msampler\u001b[0m\u001b[0;34m:\u001b[0m\u001b[0;34m\u001b[0m\u001b[0;34m\u001b[0m\u001b[0m\n",
      "\u001b[0;32m-> 1477\u001b[0;31m                 \u001b[0;32mfor\u001b[0m \u001b[0mdraw\u001b[0m \u001b[0;32min\u001b[0m \u001b[0msampler\u001b[0m\u001b[0;34m:\u001b[0m\u001b[0;34m\u001b[0m\u001b[0;34m\u001b[0m\u001b[0m\n",
      "\u001b[0m\u001b[1;32m   1478\u001b[0m                     \u001b[0mtrace\u001b[0m \u001b[0;34m=\u001b[0m \u001b[0mtraces\u001b[0m\u001b[0;34m[\u001b[0m\u001b[0mdraw\u001b[0m\u001b[0;34m.\u001b[0m\u001b[0mchain\u001b[0m \u001b[0;34m-\u001b[0m \u001b[0mchain\u001b[0m\u001b[0;34m]\u001b[0m\u001b[0;34m\u001b[0m\u001b[0;34m\u001b[0m\u001b[0m\n",
      "\u001b[1;32m   1479\u001b[0m                     \u001b[0;32mif\u001b[0m \u001b[0mtrace\u001b[0m\u001b[0;34m.\u001b[0m\u001b[0msupports_sampler_stats\u001b[0m \u001b[0;32mand\u001b[0m \u001b[0mdraw\u001b[0m\u001b[0;34m.\u001b[0m\u001b[0mstats\u001b[0m \u001b[0;32mis\u001b[0m \u001b[0;32mnot\u001b[0m \u001b[0;32mNone\u001b[0m\u001b[0;34m:\u001b[0m\u001b[0;34m\u001b[0m\u001b[0;34m\u001b[0m\u001b[0m\n",
      "\n",
      "\u001b[0;32m/fred/oz200/avajpeyi/envs/tess/lib/python3.8/site-packages/pymc3/parallel_sampling.py\u001b[0m in \u001b[0;36m__iter__\u001b[0;34m(self)\u001b[0m\n",
      "\u001b[1;32m    477\u001b[0m \u001b[0;34m\u001b[0m\u001b[0m\n",
      "\u001b[1;32m    478\u001b[0m         \u001b[0;32mwhile\u001b[0m \u001b[0mself\u001b[0m\u001b[0;34m.\u001b[0m\u001b[0m_active\u001b[0m\u001b[0;34m:\u001b[0m\u001b[0;34m\u001b[0m\u001b[0;34m\u001b[0m\u001b[0m\n",
      "\u001b[0;32m--> 479\u001b[0;31m             \u001b[0mdraw\u001b[0m \u001b[0;34m=\u001b[0m \u001b[0mProcessAdapter\u001b[0m\u001b[0;34m.\u001b[0m\u001b[0mrecv_draw\u001b[0m\u001b[0;34m(\u001b[0m\u001b[0mself\u001b[0m\u001b[0;34m.\u001b[0m\u001b[0m_active\u001b[0m\u001b[0;34m)\u001b[0m\u001b[0;34m\u001b[0m\u001b[0;34m\u001b[0m\u001b[0m\n",
      "\u001b[0m\u001b[1;32m    480\u001b[0m             \u001b[0mproc\u001b[0m\u001b[0;34m,\u001b[0m \u001b[0mis_last\u001b[0m\u001b[0;34m,\u001b[0m \u001b[0mdraw\u001b[0m\u001b[0;34m,\u001b[0m \u001b[0mtuning\u001b[0m\u001b[0;34m,\u001b[0m \u001b[0mstats\u001b[0m\u001b[0;34m,\u001b[0m \u001b[0mwarns\u001b[0m \u001b[0;34m=\u001b[0m \u001b[0mdraw\u001b[0m\u001b[0;34m\u001b[0m\u001b[0;34m\u001b[0m\u001b[0m\n",
      "\u001b[1;32m    481\u001b[0m             \u001b[0mself\u001b[0m\u001b[0;34m.\u001b[0m\u001b[0m_total_draws\u001b[0m \u001b[0;34m+=\u001b[0m \u001b[0;36m1\u001b[0m\u001b[0;34m\u001b[0m\u001b[0;34m\u001b[0m\u001b[0m\n",
      "\n",
      "\u001b[0;32m/fred/oz200/avajpeyi/envs/tess/lib/python3.8/site-packages/pymc3/parallel_sampling.py\u001b[0m in \u001b[0;36mrecv_draw\u001b[0;34m(processes, timeout)\u001b[0m\n",
      "\u001b[1;32m    349\u001b[0m         \u001b[0midxs\u001b[0m \u001b[0;34m=\u001b[0m \u001b[0;34m{\u001b[0m\u001b[0mid\u001b[0m\u001b[0;34m(\u001b[0m\u001b[0mproc\u001b[0m\u001b[0;34m.\u001b[0m\u001b[0m_msg_pipe\u001b[0m\u001b[0;34m)\u001b[0m\u001b[0;34m:\u001b[0m \u001b[0mproc\u001b[0m \u001b[0;32mfor\u001b[0m \u001b[0mproc\u001b[0m \u001b[0;32min\u001b[0m \u001b[0mprocesses\u001b[0m\u001b[0;34m}\u001b[0m\u001b[0;34m\u001b[0m\u001b[0;34m\u001b[0m\u001b[0m\n",
      "\u001b[1;32m    350\u001b[0m         \u001b[0mproc\u001b[0m \u001b[0;34m=\u001b[0m \u001b[0midxs\u001b[0m\u001b[0;34m[\u001b[0m\u001b[0mid\u001b[0m\u001b[0;34m(\u001b[0m\u001b[0mready\u001b[0m\u001b[0;34m[\u001b[0m\u001b[0;36m0\u001b[0m\u001b[0;34m]\u001b[0m\u001b[0;34m)\u001b[0m\u001b[0;34m]\u001b[0m\u001b[0;34m\u001b[0m\u001b[0;34m\u001b[0m\u001b[0m\n",
      "\u001b[0;32m--> 351\u001b[0;31m         \u001b[0mmsg\u001b[0m \u001b[0;34m=\u001b[0m \u001b[0mready\u001b[0m\u001b[0;34m[\u001b[0m\u001b[0;36m0\u001b[0m\u001b[0;34m]\u001b[0m\u001b[0;34m.\u001b[0m\u001b[0mrecv\u001b[0m\u001b[0;34m(\u001b[0m\u001b[0;34m)\u001b[0m\u001b[0;34m\u001b[0m\u001b[0;34m\u001b[0m\u001b[0m\n",
      "\u001b[0m\u001b[1;32m    352\u001b[0m \u001b[0;34m\u001b[0m\u001b[0m\n",
      "\u001b[1;32m    353\u001b[0m         \u001b[0;32mif\u001b[0m \u001b[0mmsg\u001b[0m\u001b[0;34m[\u001b[0m\u001b[0;36m0\u001b[0m\u001b[0;34m]\u001b[0m \u001b[0;34m==\u001b[0m \u001b[0;34m\"error\"\u001b[0m\u001b[0;34m:\u001b[0m\u001b[0;34m\u001b[0m\u001b[0;34m\u001b[0m\u001b[0m\n",
      "\n",
      "\u001b[0;32m/apps/sandybridge/software/Python/3.8.5-gni-2020.0/lib/python3.8/multiprocessing/connection.py\u001b[0m in \u001b[0;36mrecv\u001b[0;34m(self)\u001b[0m\n",
      "\u001b[1;32m    248\u001b[0m         \u001b[0mself\u001b[0m\u001b[0;34m.\u001b[0m\u001b[0m_check_closed\u001b[0m\u001b[0;34m(\u001b[0m\u001b[0;34m)\u001b[0m\u001b[0;34m\u001b[0m\u001b[0;34m\u001b[0m\u001b[0m\n",
      "\u001b[1;32m    249\u001b[0m         \u001b[0mself\u001b[0m\u001b[0;34m.\u001b[0m\u001b[0m_check_readable\u001b[0m\u001b[0;34m(\u001b[0m\u001b[0;34m)\u001b[0m\u001b[0;34m\u001b[0m\u001b[0;34m\u001b[0m\u001b[0m\n",
      "\u001b[0;32m--> 250\u001b[0;31m         \u001b[0mbuf\u001b[0m \u001b[0;34m=\u001b[0m \u001b[0mself\u001b[0m\u001b[0;34m.\u001b[0m\u001b[0m_recv_bytes\u001b[0m\u001b[0;34m(\u001b[0m\u001b[0;34m)\u001b[0m\u001b[0;34m\u001b[0m\u001b[0;34m\u001b[0m\u001b[0m\n",
      "\u001b[0m\u001b[1;32m    251\u001b[0m         \u001b[0;32mreturn\u001b[0m \u001b[0m_ForkingPickler\u001b[0m\u001b[0;34m.\u001b[0m\u001b[0mloads\u001b[0m\u001b[0;34m(\u001b[0m\u001b[0mbuf\u001b[0m\u001b[0;34m.\u001b[0m\u001b[0mgetbuffer\u001b[0m\u001b[0;34m(\u001b[0m\u001b[0;34m)\u001b[0m\u001b[0;34m)\u001b[0m\u001b[0;34m\u001b[0m\u001b[0;34m\u001b[0m\u001b[0m\n",
      "\u001b[1;32m    252\u001b[0m \u001b[0;34m\u001b[0m\u001b[0m\n",
      "\n",
      "\u001b[0;32m/apps/sandybridge/software/Python/3.8.5-gni-2020.0/lib/python3.8/multiprocessing/connection.py\u001b[0m in \u001b[0;36m_recv_bytes\u001b[0;34m(self, maxsize)\u001b[0m\n",
      "\u001b[1;32m    412\u001b[0m \u001b[0;34m\u001b[0m\u001b[0m\n",
      "\u001b[1;32m    413\u001b[0m     \u001b[0;32mdef\u001b[0m \u001b[0m_recv_bytes\u001b[0m\u001b[0;34m(\u001b[0m\u001b[0mself\u001b[0m\u001b[0;34m,\u001b[0m \u001b[0mmaxsize\u001b[0m\u001b[0;34m=\u001b[0m\u001b[0;32mNone\u001b[0m\u001b[0;34m)\u001b[0m\u001b[0;34m:\u001b[0m\u001b[0;34m\u001b[0m\u001b[0;34m\u001b[0m\u001b[0m\n",
      "\u001b[0;32m--> 414\u001b[0;31m         \u001b[0mbuf\u001b[0m \u001b[0;34m=\u001b[0m \u001b[0mself\u001b[0m\u001b[0;34m.\u001b[0m\u001b[0m_recv\u001b[0m\u001b[0;34m(\u001b[0m\u001b[0;36m4\u001b[0m\u001b[0;34m)\u001b[0m\u001b[0;34m\u001b[0m\u001b[0;34m\u001b[0m\u001b[0m\n",
      "\u001b[0m\u001b[1;32m    415\u001b[0m         \u001b[0msize\u001b[0m\u001b[0;34m,\u001b[0m \u001b[0;34m=\u001b[0m \u001b[0mstruct\u001b[0m\u001b[0;34m.\u001b[0m\u001b[0munpack\u001b[0m\u001b[0;34m(\u001b[0m\u001b[0;34m\"!i\"\u001b[0m\u001b[0;34m,\u001b[0m \u001b[0mbuf\u001b[0m\u001b[0;34m.\u001b[0m\u001b[0mgetvalue\u001b[0m\u001b[0;34m(\u001b[0m\u001b[0;34m)\u001b[0m\u001b[0;34m)\u001b[0m\u001b[0;34m\u001b[0m\u001b[0;34m\u001b[0m\u001b[0m\n",
      "\u001b[1;32m    416\u001b[0m         \u001b[0;32mif\u001b[0m \u001b[0msize\u001b[0m \u001b[0;34m==\u001b[0m \u001b[0;34m-\u001b[0m\u001b[0;36m1\u001b[0m\u001b[0;34m:\u001b[0m\u001b[0;34m\u001b[0m\u001b[0;34m\u001b[0m\u001b[0m\n",
      "\n",
      "\u001b[0;32m/apps/sandybridge/software/Python/3.8.5-gni-2020.0/lib/python3.8/multiprocessing/connection.py\u001b[0m in \u001b[0;36m_recv\u001b[0;34m(self, size, read)\u001b[0m\n",
      "\u001b[1;32m    377\u001b[0m         \u001b[0mremaining\u001b[0m \u001b[0;34m=\u001b[0m \u001b[0msize\u001b[0m\u001b[0;34m\u001b[0m\u001b[0;34m\u001b[0m\u001b[0m\n",
      "\u001b[1;32m    378\u001b[0m         \u001b[0;32mwhile\u001b[0m \u001b[0mremaining\u001b[0m \u001b[0;34m>\u001b[0m \u001b[0;36m0\u001b[0m\u001b[0;34m:\u001b[0m\u001b[0;34m\u001b[0m\u001b[0;34m\u001b[0m\u001b[0m\n",
      "\u001b[0;32m--> 379\u001b[0;31m             \u001b[0mchunk\u001b[0m \u001b[0;34m=\u001b[0m \u001b[0mread\u001b[0m\u001b[0;34m(\u001b[0m\u001b[0mhandle\u001b[0m\u001b[0;34m,\u001b[0m \u001b[0mremaining\u001b[0m\u001b[0;34m)\u001b[0m\u001b[0;34m\u001b[0m\u001b[0;34m\u001b[0m\u001b[0m\n",
      "\u001b[0m\u001b[1;32m    380\u001b[0m             \u001b[0mn\u001b[0m \u001b[0;34m=\u001b[0m \u001b[0mlen\u001b[0m\u001b[0;34m(\u001b[0m\u001b[0mchunk\u001b[0m\u001b[0;34m)\u001b[0m\u001b[0;34m\u001b[0m\u001b[0;34m\u001b[0m\u001b[0m\n",
      "\u001b[1;32m    381\u001b[0m             \u001b[0;32mif\u001b[0m \u001b[0mn\u001b[0m \u001b[0;34m==\u001b[0m \u001b[0;36m0\u001b[0m\u001b[0;34m:\u001b[0m\u001b[0;34m\u001b[0m\u001b[0;34m\u001b[0m\u001b[0m\n",
      "\n",
      "\u001b[0;31mConnectionResetError\u001b[0m: [Errno 104] Connection reset by peer"
     ]
    },
    {
     "ename": "ConnectionResetError",
     "evalue": "[Errno 104] Connection reset by peer",
     "output_type": "error",
     "traceback": [
      "time: 1h 5min 17s (started: 2023-08-11 14:40:39 +10:00)"
     ]
    }
   ],
   "source": [
    "if tic_entry.inference_data is None:\n",
    "    inference_data = run_inference(planet_transit_model)\n",
    "    tic_entry.inference_data = inference_data\n",
    "    tic_entry.save_data(inference_data=inference_data)\n",
    "else:\n",
    "    logger.info(\"Using cached run\")\n",
    "    inference_data = tic_entry.inference_data\n",
    "inference_data\n"
   ]
  },
  {
   "cell_type": "markdown",
   "id": "eaa98561",
   "metadata": {},
   "source": [
    "The `inference_data` object contains the posteriors and sampling metadata. Let's save it for future use, and take a look at summary statistics. Note: the _trace plot_ from sampling is hidden below."
   ]
  },
  {
   "cell_type": "code",
   "execution_count": null,
   "id": "dbeb6da1",
   "metadata": {
    "lines_to_next_cell": 0,
    "pycharm": {
     "name": "#%%\n"
    },
    "tags": [
     "exe"
    ]
   },
   "outputs": [],
   "source": [
    "summary(inference_data)"
   ]
  },
  {
   "cell_type": "code",
   "execution_count": null,
   "id": "3c7044ae",
   "metadata": {
    "tags": [
     "exe",
     "remove-output"
    ]
   },
   "outputs": [],
   "source": [
    "plot_inference_trace(tic_entry, save=True)"
   ]
  },
  {
   "cell_type": "markdown",
   "id": "5cb0bb58",
   "metadata": {
    "tags": [
     "hide-cell"
    ]
   },
   "source": [
    "![](toi_1488_files/diagnostic_trace_plot.png)"
   ]
  },
  {
   "cell_type": "markdown",
   "id": "da2ab08f",
   "metadata": {},
   "source": [
    "## Results\n",
    "\n",
    "\n",
    "### Posterior plots\n",
    "Below are plots of the posterior probability distributions and the best-fitting light-curve model."
   ]
  },
  {
   "cell_type": "code",
   "execution_count": null,
   "id": "a5e816b0",
   "metadata": {
    "lines_to_next_cell": 0,
    "pycharm": {
     "name": "#%%\n"
    },
    "tags": [
     "exe",
     "remove-output"
    ]
   },
   "outputs": [],
   "source": [
    "plot_posteriors(\n",
    "    tic_entry, inference_data, initial_params=init_params, save=True\n",
    ")"
   ]
  },
  {
   "cell_type": "markdown",
   "id": "5af8e40c",
   "metadata": {},
   "source": [
    "<!-- SHOW POSTERIOR PLOT -->\n",
    "![](toi_1488_files/posteriors.png)"
   ]
  },
  {
   "cell_type": "code",
   "execution_count": null,
   "id": "31983191",
   "metadata": {
    "pycharm": {
     "name": "#%%\n"
    },
    "tags": [
     "exe",
     "remove-output"
    ]
   },
   "outputs": [],
   "source": [
    "%%memit\n",
    "plot_phase(\n",
    "    tic_entry,\n",
    "    planet_transit_model,\n",
    "    inference_data,\n",
    "    initial_params=init_params,\n",
    "    save=True,\n",
    ")"
   ]
  },
  {
   "cell_type": "markdown",
   "id": "e05b9afa",
   "metadata": {},
   "source": [
    "<!-- SHOW PHASE PLOT -->\n",
    "<img src=\"toi_1488_files/phase_plot.png\" style=\"width:450px;\"/>"
   ]
  },
  {
   "cell_type": "markdown",
   "id": "72879f98",
   "metadata": {},
   "source": [
    "### Eccentricity post-processing\n",
    "\n",
    "As discussed above, we fit this model assuming a circular orbit which speeds things up for a few reasons:\n",
    "1) `e=0` allows simpler orbital dynamics which are more computationally efficient (no need to solve Kepler's equation numerically)\n",
    "\n",
    "2) There are degeneracies between eccentricity, arrgument of periasteron, impact parameter, and planet radius. Hence by setting `e=0` and using the duration in calculating the planet's orbit, the sampler can perform better.\n",
    "\n",
    "To first order, the eccentricity mainly just changes the transit duration.\n",
    "This can be thought of as a change in the impled density of the star.\n",
    "Therefore, if the transit is fit using stellar density (or duration, in this case) as one of the parameters, it is possible to make an independent measurement of the stellar density, and in turn infer the eccentricity of the orbit as a post-processing step.\n",
    "The details of this eccentricity calculation method are described in [Dawson & Johnson (2012)].\n",
    "\n",
    "Here, if the TIC has associated stellar data, we use the method described above to obtain fits for the exoplanet's orbital eccentricity.\n",
    "\n",
    "[Dawson & Johnson (2012)]: https://arxiv.org/abs/1203.5537\n",
    "Note: a different stellar density parameter is required for each planet (if there is more than one planet)"
   ]
  },
  {
   "cell_type": "code",
   "execution_count": null,
   "id": "0af6d4f2",
   "metadata": {
    "pycharm": {
     "name": "#%%\n"
    },
    "tags": [
     "exe"
    ]
   },
   "outputs": [],
   "source": [
    "star = tic_entry.stellar_data\n",
    "star"
   ]
  },
  {
   "cell_type": "code",
   "execution_count": null,
   "id": "74889467",
   "metadata": {
    "tags": [
     "remove-input"
    ]
   },
   "outputs": [],
   "source": [
    "if star.density_data_present:\n",
    "    logger.info(\n",
    "        \"Stellar data present for TIC. Continuing with eccentricity calculations.\"\n",
    "    )\n",
    "else:\n",
    "    logger.info(\n",
    "        \"Stellar data not present for TIC. Skipping eccentricity calculations.\"\n",
    "    )"
   ]
  },
  {
   "cell_type": "code",
   "execution_count": null,
   "id": "79d2fb9e",
   "metadata": {
    "lines_to_next_cell": 0,
    "pycharm": {
     "name": "#%%\n"
    },
    "tags": [
     "exe",
     "remove-output"
    ]
   },
   "outputs": [],
   "source": [
    "if star.density_data_present:\n",
    "    ecc_samples = calculate_eccentricity_weights(tic_entry, inference_data)\n",
    "    ecc_samples.to_csv(\n",
    "        os.path.join(tic_entry.outdir, \"eccentricity_samples.csv\"), index=False\n",
    "    )\n",
    "    plot_eccentricity_posteriors(tic_entry, ecc_samples, save=True)"
   ]
  },
  {
   "cell_type": "markdown",
   "id": "562eabbb",
   "metadata": {},
   "source": [
    "<!-- SHOW ECC POSTERIORS -->\n",
    "![](toi_1488_files/eccentricity_posteriors.png)"
   ]
  },
  {
   "cell_type": "markdown",
   "id": "2aca8fd5",
   "metadata": {},
   "source": [
    "### Diagnostics\n",
    "Finally, we also generate some diagnostic plots."
   ]
  },
  {
   "cell_type": "code",
   "execution_count": null,
   "id": "a39f5d57",
   "metadata": {
    "lines_to_next_cell": 0,
    "pycharm": {
     "name": "#%%\n"
    },
    "tags": [
     "exe",
     "remove-output"
    ]
   },
   "outputs": [],
   "source": [
    "plot_diagnostics(tic_entry, planet_transit_model, init_params, save=True)"
   ]
  },
  {
   "cell_type": "markdown",
   "id": "b4e2712f",
   "metadata": {
    "tags": [
     "hide-cell"
    ]
   },
   "source": [
    "<!-- SHOW DIAGNOSTICS -->\n",
    "\n",
    "![](toi_1488_files/diagnostic_flux_vs_time_zoom.png)"
   ]
  },
  {
   "cell_type": "markdown",
   "id": "da2dca7a",
   "metadata": {},
   "source": [
    "## Citations\n",
    "\n",
    "We hope this has been helpful! The TESS-Atlas was built using exoplanet, PyMC3, lightkurve, starry, celerite2, ExoFOP, and Sphinx.\n",
    "\n",
    "We would greatly appreciate you citing this work and its dependencies.\n",
    "\n",
    "### LaTeX acknowledgement and bibliography"
   ]
  },
  {
   "cell_type": "code",
   "execution_count": null,
   "id": "02671df9",
   "metadata": {
    "pycharm": {
     "name": "#%%\n"
    },
    "tags": [
     "exe",
     "output_scroll"
    ]
   },
   "outputs": [],
   "source": [
    "from tess_atlas import citations\n",
    "\n",
    "citations.print_acknowledgements()"
   ]
  },
  {
   "cell_type": "code",
   "execution_count": null,
   "id": "1f0311bf",
   "metadata": {
    "pycharm": {
     "name": "#%%\n"
    },
    "tags": [
     "exe",
     "output_scroll"
    ]
   },
   "outputs": [],
   "source": [
    "citations.print_bibliography()"
   ]
  },
  {
   "cell_type": "markdown",
   "id": "f7f0f791",
   "metadata": {},
   "source": [
    "### Packages used\n"
   ]
  },
  {
   "cell_type": "code",
   "execution_count": null,
   "id": "ad0b618a",
   "metadata": {
    "pycharm": {
     "name": "#%%\n"
    },
    "tags": [
     "exe",
     "output_scroll"
    ]
   },
   "outputs": [],
   "source": [
    "citations.print_packages()"
   ]
  },
  {
   "cell_type": "markdown",
   "id": "b9c3b062",
   "metadata": {},
   "source": [
    "## Comments\n",
    "Leave a comment below or in this [issue](https://github.com/avivajpeyi/tess-atlas/issues/new?title=TOI1488).\n",
    "```{raw} html\n",
    "<script src=\"https://utteranc.es/client.js\"\n",
    "        repo=\"avivajpeyi/tess-atlas\"\n",
    "        issue-term=\"TOI1488\"\n",
    "        theme=\"github-light\"\n",
    "        crossorigin=\"anonymous\"\n",
    "        async>\n",
    "</script>\n",
    "```"
   ]
  }
 ],
 "metadata": {
  "jupytext": {
   "encoding": "# -*- coding: utf-8 -*-",
   "formats": "ipynb,py:light"
  },
  "kernelspec": {
   "display_name": "Python 3 (ipykernel)",
   "language": "python",
   "name": "python3"
  },
  "orphan": true
 },
 "nbformat": 4,
 "nbformat_minor": 5
}
